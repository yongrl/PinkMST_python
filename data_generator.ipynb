{
 "cells": [
  {
   "cell_type": "code",
   "execution_count": 1,
   "metadata": {},
   "outputs": [],
   "source": [
    "import numpy as np\n",
    "import pandas as pd"
   ]
  },
  {
   "cell_type": "code",
   "execution_count": 2,
   "metadata": {},
   "outputs": [
    {
     "data": {
      "text/plain": [
       "array([4, 3, 0, 1, 2])"
      ]
     },
     "execution_count": 2,
     "metadata": {},
     "output_type": "execute_result"
    }
   ],
   "source": [
    "np.random.randint(high=5,size=5,low=0)"
   ]
  },
  {
   "cell_type": "code",
   "execution_count": 3,
   "metadata": {},
   "outputs": [],
   "source": [
    "data=[]\n",
    "for i in range(1):\n",
    "    for i in range(10):\n",
    "        data.append(list(np.random.randint(high=5,size=5,low=0)))\n",
    "    # for i in range(10):\n",
    "    #     data.append(list(np.random.randint(high=20,size=5,low=10)))\n",
    "    # for i in range(10):\n",
    "    #     data.append(list(np.random.randint(high=70,size=5,low=50)))\n",
    "    for i in range(10):\n",
    "        data.append(list(np.random.randint(high=130,size=5,low=100)))"
   ]
  },
  {
   "cell_type": "code",
   "execution_count": 6,
   "metadata": {},
   "outputs": [],
   "source": [
    "np.savetxt(\"data_small.txt\",data)"
   ]
  },
  {
   "cell_type": "code",
   "execution_count": 5,
   "metadata": {},
   "outputs": [
    {
     "data": {
      "text/plain": [
       "[[4, 0, 3, 2, 4],\n [1, 0, 2, 2, 4],\n [4, 0, 1, 4, 3],\n [3, 1, 1, 2, 3],\n [4, 0, 0, 2, 4],\n [2, 0, 2, 0, 3],\n [0, 2, 3, 0, 3],\n [0, 4, 1, 3, 2],\n [3, 4, 4, 3, 3],\n [0, 1, 4, 2, 0],\n [114, 120, 125, 102, 121],\n [119, 108, 121, 128, 121],\n [114, 129, 106, 110, 127],\n [119, 123, 124, 129, 105],\n [111, 118, 109, 126, 112],\n [123, 106, 101, 129, 123],\n [127, 113, 115, 114, 114],\n [100, 126, 120, 110, 127],\n [105, 121, 108, 111, 129],\n [121, 118, 104, 102, 100]]"
      ]
     },
     "execution_count": 5,
     "metadata": {},
     "output_type": "execute_result"
    }
   ],
   "source": [
    "data"
   ]
  },
  {
   "cell_type": "code",
   "execution_count": null,
   "metadata": {},
   "outputs": [],
   "source": []
  }
 ],
 "metadata": {
  "kernelspec": {
   "display_name": "Python 3",
   "language": "python",
   "name": "python3"
  },
  "language_info": {
   "codemirror_mode": {
    "name": "ipython",
    "version": 3
   },
   "file_extension": ".py",
   "mimetype": "text/x-python",
   "name": "python",
   "nbconvert_exporter": "python",
   "pygments_lexer": "ipython3",
   "version": "3.5.2"
  }
 },
 "nbformat": 4,
 "nbformat_minor": 2
}
